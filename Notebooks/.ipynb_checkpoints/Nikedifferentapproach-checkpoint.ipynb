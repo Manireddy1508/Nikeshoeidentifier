{
 "cells": [
  {
   "cell_type": "code",
   "execution_count": 31,
   "id": "a2176b0a-bac9-4931-9414-a7f085d396c9",
   "metadata": {},
   "outputs": [],
   "source": [
    "import os\n",
    "import cv2\n",
    "import numpy as np\n",
    "import tensorflow as tf\n",
    "from tensorflow.keras import layers, models, regularizers\n",
    "from tensorflow.keras.preprocessing.image import ImageDataGenerator\n",
    "from tensorflow.keras.applications import MobileNetV2\n",
    "from tensorflow.keras.applications.mobilenet_v2 import preprocess_input\n",
    "from PIL import Image, UnidentifiedImageError\n",
    "import uuid"
   ]
  },
  {
   "cell_type": "code",
   "execution_count": null,
   "id": "a9d77291-f9cf-439a-9d1a-bbf9600a446d",
   "metadata": {},
   "outputs": [],
   "source": []
  },
  {
   "cell_type": "code",
   "execution_count": 64,
   "id": "0fc303d1-7cdb-49d9-8dde-c6ede921789b",
   "metadata": {},
   "outputs": [],
   "source": [
    "# Define organized dataset directory\n",
    "organized_dataset_path = \"/Users/mani/Sneakers_Organized\"\n",
    "nike_organized_path = os.path.join(organized_dataset_path, \"Nike\")\n",
    "other_organized_path = os.path.join(organized_dataset_path, \"Other\")\n",
    "non_shoe_path = os.path.join(organized_dataset_path, \"non_shoe\")"
   ]
  },
  {
   "cell_type": "markdown",
   "id": "297c65a7-2601-4508-baff-dcba5e85781c",
   "metadata": {},
   "source": [
    "# Data Preparation\n",
    "\n",
    "This section defines the dataset directories and initializes the `ImageDataGenerator` with augmentation techniques.\n",
    "We apply **MobileNetV2 preprocessing**, **rotation, brightness adjustments, and flipping** to improve generalization.\n",
    "\n",
    "- `train_generator` is used for training images.\n",
    "- `val_generator` is used for validation images.\n",
    "- `test_generator` is used to evaluate model performance.\n"
   ]
  },
  {
   "cell_type": "code",
   "execution_count": 84,
   "id": "5e2e7253-96c0-4f0f-8265-56af8249bc04",
   "metadata": {},
   "outputs": [
    {
     "name": "stdout",
     "output_type": "stream",
     "text": [
      "Found 31976 images belonging to 3 classes.\n",
      "Found 7993 images belonging to 3 classes.\n"
     ]
    }
   ],
   "source": [
    "# Define ImageDataGenerator with MobileNetV2 preprocessing\n",
    "data_gen = ImageDataGenerator(\n",
    "    preprocessing_function=preprocess_input,\n",
    "    rotation_range=40,\n",
    "    brightness_range=[0.7, 1.3],\n",
    "    width_shift_range=0.2,\n",
    "    height_shift_range=0.2,\n",
    "    shear_range=0.2,\n",
    "    zoom_range=0.3,\n",
    "    channel_shift_range=0.2,\n",
    "    horizontal_flip=True,\n",
    "    validation_split=0.2\n",
    ")\n",
    "\n",
    "\n",
    "# Create training and validation generators\n",
    "train_generator = data_gen.flow_from_directory(\n",
    "    organized_dataset_path,\n",
    "    target_size=(224, 224),\n",
    "    batch_size=16,\n",
    "    class_mode='categorical',\n",
    "    subset='training',\n",
    "    classes=['Nike', 'Other', 'non_shoe']  # Multi-class classification\n",
    ")\n",
    "\n",
    "val_generator = data_gen.flow_from_directory(\n",
    "    organized_dataset_path,\n",
    "    target_size=(224, 224),\n",
    "    batch_size=16,\n",
    "    class_mode='categorical',\n",
    "    subset='validation',\n",
    "    classes=['Nike', 'Other', 'non_shoe']  # Ensure validation has the same class mapping\n",
    ")"
   ]
  },
  {
   "cell_type": "code",
   "execution_count": null,
   "id": "fa77c438-8f88-4780-b7b9-19b686e318db",
   "metadata": {},
   "outputs": [],
   "source": []
  },
  {
   "cell_type": "code",
   "execution_count": 87,
   "id": "0e7c5eb8-37f0-405d-814d-dd354c9bf0dc",
   "metadata": {},
   "outputs": [
    {
     "name": "stdout",
     "output_type": "stream",
     "text": [
      "{'Nike': 0, 'Other': 1, 'non_shoe': 2}\n"
     ]
    }
   ],
   "source": [
    "# Verify class mapping\n",
    "print(train_generator.class_indices)  # Should output {'Nike': 0, 'Other': 1}\n"
   ]
  },
  {
   "cell_type": "markdown",
   "id": "7b791c2c-5346-42ed-bbcc-81ef468886e0",
   "metadata": {},
   "source": [
    "# Loading Pre-Trained MobileNetV2\n",
    "\n",
    "We load the **MobileNetV2** model with pre-trained **ImageNet** weights.\n",
    "- The first **100 layers are frozen** to retain learned features.\n",
    "- A custom classification head is added to predict **Nike, Other, and Non-Shoe** categories.\n"
   ]
  },
  {
   "cell_type": "code",
   "execution_count": 90,
   "id": "316917af-b284-48e8-ab6f-e1b58932bd47",
   "metadata": {},
   "outputs": [],
   "source": [
    "# Load pre-trained MobileNetV2 model\n",
    "base_model = MobileNetV2(input_shape=(224, 224, 3), include_top=False, weights=\"imagenet\")\n",
    "base_model.trainable = True\n",
    "for layer in base_model.layers[:120]:  # Freeze first 100 layers\n",
    "    layer.trainable = False"
   ]
  },
  {
   "cell_type": "markdown",
   "id": "3ee3265c-65b1-4dbd-9e26-3a6fe9628916",
   "metadata": {},
   "source": [
    "# Model Architecture\n",
    "\n",
    "We define a **CNN model** using the pre-trained **MobileNetV2** as a feature extractor.\n",
    "- Added **Batch Normalization** and **Dropout layers** to prevent overfitting.\n",
    "- **Softmax activation** is used to predict one of the three classes: **Nike, Other, or Non-Shoe**.\n"
   ]
  },
  {
   "cell_type": "code",
   "execution_count": 93,
   "id": "b094922e-c56a-4d32-a2b5-32a633d3168d",
   "metadata": {},
   "outputs": [],
   "source": [
    "# Define the multi-class classification model\n",
    "model = models.Sequential([\n",
    "    base_model,\n",
    "    layers.BatchNormalization(),\n",
    "    layers.GlobalAveragePooling2D(),\n",
    "    layers.Dense(512, activation='relu', kernel_regularizer=regularizers.l2(0.002)),\n",
    "    layers.Dropout(0.4),\n",
    "    layers.Dense(256, activation='relu', kernel_regularizer=regularizers.l2(0.002)),\n",
    "    layers.Dropout(0.4),\n",
    "    layers.Dense(3, activation='softmax')  # Multi-class classification\n",
    "])"
   ]
  },
  {
   "cell_type": "markdown",
   "id": "48ba398c-eab2-40ce-8e75-7f3ef9a401cd",
   "metadata": {},
   "source": [
    "# Model Compilation\n",
    "\n",
    "We use the **Adam optimizer** with **Exponential Decay learning rate** to improve training stability.\n",
    "The loss function is **categorical_crossentropy** since this is a **multi-class classification problem**.\n"
   ]
  },
  {
   "cell_type": "code",
   "execution_count": 96,
   "id": "a83eddd3-9950-483f-b43a-4dcc31497e38",
   "metadata": {},
   "outputs": [],
   "source": [
    "# Compile the model\n",
    "optimizer = tf.keras.optimizers.Adam(learning_rate=0.0001)\n",
    "model.compile(optimizer=optimizer,\n",
    "              loss='categorical_crossentropy',  # Multi-class loss function\n",
    "              metrics=['accuracy'])"
   ]
  },
  {
   "cell_type": "markdown",
   "id": "8d9d78dc-d4d8-4819-8586-fc25c7fc35a9",
   "metadata": {},
   "source": [
    "# Callbacks for Efficient Training\n",
    "\n",
    "To optimize training, we use:\n",
    "- **EarlyStopping**: Stops training if validation loss does not improve.\n",
    "- **ReduceLROnPlateau**: Reduces the learning rate if training stagnates.\n",
    "- **ModelCheckpoint**: Saves the best model based on validation loss.\n",
    "- **TensorBoard**: Enables visualization of training logs.\n"
   ]
  },
  {
   "cell_type": "code",
   "execution_count": 99,
   "id": "b7e8498b-a078-451d-9f79-9b05f7e02bc1",
   "metadata": {},
   "outputs": [],
   "source": [
    "# Define callbacks\n",
    "callbacks = [\n",
    "    tf.keras.callbacks.EarlyStopping(monitor='val_loss', patience=8, restore_best_weights=True),\n",
    "    tf.keras.callbacks.ReduceLROnPlateau(monitor='val_loss', factor=0.4, patience=4, min_lr=1e-6),\n",
    "    tf.keras.callbacks.ModelCheckpoint(\"/Users/mani/nike_best_model.keras\", monitor='val_loss', save_best_only=True),\n",
    "    tf.keras.callbacks.TensorBoard(log_dir=\"./logs\")\n",
    "]"
   ]
  },
  {
   "cell_type": "markdown",
   "id": "5b3fb4b0-7624-4f1c-95c4-552deb5c0d55",
   "metadata": {},
   "source": [
    "# Training the Model\n",
    "\n",
    "We resume training from **epoch 17** and train for an additional **10 epochs**.\n",
    "This ensures that the model continues learning from where it left off without overfitting.\n"
   ]
  },
  {
   "cell_type": "code",
   "execution_count": 102,
   "id": "16751579-5b8e-401f-92cd-97e2b69f6af2",
   "metadata": {},
   "outputs": [
    {
     "name": "stdout",
     "output_type": "stream",
     "text": [
      "Epoch 18/20\n",
      "\u001b[1m1999/1999\u001b[0m \u001b[32m━━━━━━━━━━━━━━━━━━━━\u001b[0m\u001b[37m\u001b[0m \u001b[1m379s\u001b[0m 188ms/step - accuracy: 0.7516 - loss: 2.4443 - val_accuracy: 0.8731 - val_loss: 1.5171 - learning_rate: 1.0000e-04\n",
      "Epoch 19/20\n",
      "\u001b[1m1999/1999\u001b[0m \u001b[32m━━━━━━━━━━━━━━━━━━━━\u001b[0m\u001b[37m\u001b[0m \u001b[1m366s\u001b[0m 183ms/step - accuracy: 0.8870 - loss: 1.3107 - val_accuracy: 0.9020 - val_loss: 0.8059 - learning_rate: 1.0000e-04\n",
      "Epoch 20/20\n",
      "\u001b[1m1999/1999\u001b[0m \u001b[32m━━━━━━━━━━━━━━━━━━━━\u001b[0m\u001b[37m\u001b[0m \u001b[1m382s\u001b[0m 191ms/step - accuracy: 0.9163 - loss: 0.6730 - val_accuracy: 0.9035 - val_loss: 0.4840 - learning_rate: 1.0000e-04\n"
     ]
    }
   ],
   "source": [
    "# Resume training from epoch 17\n",
    "initial_epoch = 17\n",
    "epochs = 20\n",
    "history = model.fit(\n",
    "    train_generator,\n",
    "    validation_data=val_generator,\n",
    "    epochs=epochs,\n",
    "    callbacks=callbacks,\n",
    "    initial_epoch=initial_epoch\n",
    ")"
   ]
  },
  {
   "cell_type": "code",
   "execution_count": 104,
   "id": "0ef1b07f-d983-445c-b8cf-54685168a144",
   "metadata": {},
   "outputs": [
    {
     "name": "stdout",
     "output_type": "stream",
     "text": [
      "Epoch 1/10\n",
      "\u001b[1m1999/1999\u001b[0m \u001b[32m━━━━━━━━━━━━━━━━━━━━\u001b[0m\u001b[37m\u001b[0m \u001b[1m379s\u001b[0m 189ms/step - accuracy: 0.9381 - loss: 0.3722 - val_accuracy: 0.9338 - val_loss: 0.3284 - learning_rate: 5.0000e-05\n",
      "Epoch 2/10\n",
      "\u001b[1m1999/1999\u001b[0m \u001b[32m━━━━━━━━━━━━━━━━━━━━\u001b[0m\u001b[37m\u001b[0m \u001b[1m377s\u001b[0m 189ms/step - accuracy: 0.9451 - loss: 0.2739 - val_accuracy: 0.9336 - val_loss: 0.2761 - learning_rate: 5.0000e-05\n",
      "Epoch 3/10\n",
      "\u001b[1m1999/1999\u001b[0m \u001b[32m━━━━━━━━━━━━━━━━━━━━\u001b[0m\u001b[37m\u001b[0m \u001b[1m367s\u001b[0m 184ms/step - accuracy: 0.9521 - loss: 0.2133 - val_accuracy: 0.9356 - val_loss: 0.2280 - learning_rate: 5.0000e-05\n",
      "Epoch 4/10\n",
      "\u001b[1m1999/1999\u001b[0m \u001b[32m━━━━━━━━━━━━━━━━━━━━\u001b[0m\u001b[37m\u001b[0m \u001b[1m365s\u001b[0m 183ms/step - accuracy: 0.9529 - loss: 0.1808 - val_accuracy: 0.9339 - val_loss: 0.2167 - learning_rate: 5.0000e-05\n",
      "Epoch 5/10\n",
      "\u001b[1m1999/1999\u001b[0m \u001b[32m━━━━━━━━━━━━━━━━━━━━\u001b[0m\u001b[37m\u001b[0m \u001b[1m368s\u001b[0m 184ms/step - accuracy: 0.9590 - loss: 0.1511 - val_accuracy: 0.9436 - val_loss: 0.1803 - learning_rate: 5.0000e-05\n",
      "Epoch 6/10\n",
      "\u001b[1m1999/1999\u001b[0m \u001b[32m━━━━━━━━━━━━━━━━━━━━\u001b[0m\u001b[37m\u001b[0m \u001b[1m366s\u001b[0m 183ms/step - accuracy: 0.9641 - loss: 0.1351 - val_accuracy: 0.9482 - val_loss: 0.1695 - learning_rate: 5.0000e-05\n",
      "Epoch 7/10\n",
      "\u001b[1m1999/1999\u001b[0m \u001b[32m━━━━━━━━━━━━━━━━━━━━\u001b[0m\u001b[37m\u001b[0m \u001b[1m367s\u001b[0m 184ms/step - accuracy: 0.9667 - loss: 0.1194 - val_accuracy: 0.9409 - val_loss: 0.1822 - learning_rate: 5.0000e-05\n",
      "Epoch 8/10\n",
      "\u001b[1m1999/1999\u001b[0m \u001b[32m━━━━━━━━━━━━━━━━━━━━\u001b[0m\u001b[37m\u001b[0m \u001b[1m375s\u001b[0m 188ms/step - accuracy: 0.9689 - loss: 0.1122 - val_accuracy: 0.9421 - val_loss: 0.1810 - learning_rate: 5.0000e-05\n",
      "Epoch 9/10\n",
      "\u001b[1m1999/1999\u001b[0m \u001b[32m━━━━━━━━━━━━━━━━━━━━\u001b[0m\u001b[37m\u001b[0m \u001b[1m366s\u001b[0m 183ms/step - accuracy: 0.9693 - loss: 0.1031 - val_accuracy: 0.9427 - val_loss: 0.1733 - learning_rate: 5.0000e-05\n",
      "Epoch 10/10\n",
      "\u001b[1m1999/1999\u001b[0m \u001b[32m━━━━━━━━━━━━━━━━━━━━\u001b[0m\u001b[37m\u001b[0m \u001b[1m369s\u001b[0m 185ms/step - accuracy: 0.9726 - loss: 0.0948 - val_accuracy: 0.9501 - val_loss: 0.1628 - learning_rate: 5.0000e-05\n"
     ]
    }
   ],
   "source": [
    "# Fine-tuning after initial training\n",
    "for layer in base_model.layers:\n",
    "    layer.trainable = True  # Unfreeze all layers\n",
    "optimizer.learning_rate.assign(0.00005)  # Reduce learning rate for fine-tuning\n",
    "\n",
    "history = model.fit(\n",
    "    train_generator,\n",
    "    validation_data=val_generator,\n",
    "    epochs=10,  # Additional fine-tuning epochs\n",
    "    callbacks=callbacks\n",
    ")"
   ]
  },
  {
   "cell_type": "code",
   "execution_count": null,
   "id": "dcb12470-608f-4f0b-a347-2bf636421d3c",
   "metadata": {},
   "outputs": [],
   "source": []
  },
  {
   "cell_type": "code",
   "execution_count": 106,
   "id": "516605f5-4b11-4247-b790-ab32f73c4678",
   "metadata": {},
   "outputs": [
    {
     "name": "stderr",
     "output_type": "stream",
     "text": [
      "WARNING:absl:You are saving your model as an HDF5 file via `model.save()` or `keras.saving.save_model(model)`. This file format is considered legacy. We recommend using instead the native Keras format, e.g. `model.save('my_model.keras')` or `keras.saving.save_model(model, 'my_model.keras')`. \n"
     ]
    },
    {
     "name": "stdout",
     "output_type": "stream",
     "text": [
      "Model saved successfully.\n"
     ]
    }
   ],
   "source": [
    "# Save the trained model\n",
    "model.save(\"/Users/mani/nikeshoeornotshoe.h5\")\n",
    "print(\"Model saved successfully.\")"
   ]
  },
  {
   "cell_type": "code",
   "execution_count": 136,
   "id": "da851302-41a3-4cec-a5fd-2a17245c7666",
   "metadata": {},
   "outputs": [
    {
     "name": "stdout",
     "output_type": "stream",
     "text": [
      "Found 846 images belonging to 3 classes.\n"
     ]
    }
   ],
   "source": [
    "test_data_gen = ImageDataGenerator(preprocessing_function=preprocess_input)\n",
    "\n",
    "test_generator = test_data_gen.flow_from_directory(\n",
    "    \"/Users/mani/Sneakers_Organized/test\",\n",
    "    target_size=(224, 224),\n",
    "    batch_size=16,\n",
    "    class_mode='categorical',\n",
    "    shuffle=False  # No need to shuffle for evaluation\n",
    ")\n"
   ]
  },
  {
   "cell_type": "markdown",
   "id": "8d678a26-e717-46b5-828b-424f1f2b4e20",
   "metadata": {},
   "source": [
    "# Model Evaluation on Test Data\n",
    "\n",
    "We evaluate the trained model on a **separate test set**.\n",
    "The final test accuracy and loss are printed to assess model performance.\n"
   ]
  },
  {
   "cell_type": "code",
   "execution_count": 140,
   "id": "801b512c-5ee3-48ba-94ec-e15fbec17451",
   "metadata": {},
   "outputs": [
    {
     "name": "stderr",
     "output_type": "stream",
     "text": [
      "/opt/anaconda3/lib/python3.12/site-packages/keras/src/trainers/data_adapters/py_dataset_adapter.py:121: UserWarning: Your `PyDataset` class should call `super().__init__(**kwargs)` in its constructor. `**kwargs` can include `workers`, `use_multiprocessing`, `max_queue_size`. Do not pass these arguments to `fit()`, as they will be ignored.\n",
      "  self._warn_if_super_not_called()\n"
     ]
    },
    {
     "name": "stdout",
     "output_type": "stream",
     "text": [
      "\u001b[1m53/53\u001b[0m \u001b[32m━━━━━━━━━━━━━━━━━━━━\u001b[0m\u001b[37m\u001b[0m \u001b[1m5s\u001b[0m 100ms/step - accuracy: 0.9129 - loss: 0.3336\n",
      "Test Accuracy: 0.9291, Test Loss: 0.2566\n"
     ]
    }
   ],
   "source": [
    "test_loss, test_acc = model.evaluate(test_generator)\n",
    "print(f\"Test Accuracy: {test_acc:.4f}, Test Loss: {test_loss:.4f}\")\n"
   ]
  },
  {
   "cell_type": "markdown",
   "id": "ee0c1aba-4a20-4cbe-b464-926f62a86a86",
   "metadata": {},
   "source": [
    "# Saving the Model\n",
    "\n",
    "The trained model is saved as **nike_final_model.keras** for future use.\n",
    "This ensures that we don’t need to retrain the model from scratch.\n"
   ]
  },
  {
   "cell_type": "code",
   "execution_count": 146,
   "id": "ed8aa357-6dc3-4c4c-a8d8-c4d028358225",
   "metadata": {},
   "outputs": [
    {
     "name": "stdout",
     "output_type": "stream",
     "text": [
      "Model saved successfully!\n"
     ]
    }
   ],
   "source": [
    "# Save the final model\n",
    "model.save(\"/Users/mani/nike_final_model.keras\")\n",
    "print(\"Model saved successfully!\")"
   ]
  },
  {
   "cell_type": "markdown",
   "id": "884f74d7-5497-47e6-8e2d-6b8574605e89",
   "metadata": {},
   "source": [
    "# Making Predictions on New Images\n",
    "\n",
    "A function `predict_image()` is defined to classify new images.\n",
    "Simply pass an image path to the function, and it will return:\n",
    "- The **predicted class** (Nike, Other, or Non-Shoe).\n",
    "- The **confidence scores** for each class.\n"
   ]
  },
  {
   "cell_type": "code",
   "execution_count": 148,
   "id": "2135e98f-6974-4bfe-a385-4b446342a983",
   "metadata": {},
   "outputs": [],
   "source": [
    "# Function to predict an image\n",
    "def predict_image(img_path, model):\n",
    "    img = tf.keras.preprocessing.image.load_img(img_path, target_size=(224, 224))\n",
    "    img_array = tf.keras.preprocessing.image.img_to_array(img)\n",
    "    img_array = np.expand_dims(img_array, axis=0)\n",
    "    img_array = preprocess_input(img_array)\n",
    "    \n",
    "    predictions = model.predict(img_array)\n",
    "    class_idx = np.argmax(predictions)\n",
    "    class_labels = ['Nike', 'Other', 'Non-Shoe']\n",
    "    return class_labels[class_idx], predictions\n"
   ]
  },
  {
   "cell_type": "code",
   "execution_count": null,
   "id": "dcc246b0-69ef-4950-b3eb-6a3caa6b0a52",
   "metadata": {},
   "outputs": [],
   "source": []
  },
  {
   "cell_type": "markdown",
   "id": "41cc3e9b-ae60-4ad8-96bc-6f9d2c9c9d62",
   "metadata": {},
   "source": [
    "# Visualizing Training Performance\n",
    "\n",
    "To analyze the model’s training process, we **plot accuracy and loss**:\n",
    "- **Train vs. Validation Accuracy**\n",
    "- **Train vs. Validation Loss**\n",
    "\n",
    "This helps to assess whether the model is **overfitting** or **generalizing well**.\n"
   ]
  },
  {
   "cell_type": "code",
   "execution_count": 150,
   "id": "a4a333b2-5f93-4627-929d-4457c3491351",
   "metadata": {},
   "outputs": [
    {
     "data": {
      "image/png": "[encoded data removed]",
      "text/plain": [
       "<Figure size 1200x500 with 2 Axes>"
      ]
     },
     "metadata": {},
     "output_type": "display_data"
    },
    {
     "name": "stdout",
     "output_type": "stream",
     "text": [
      "Model training and evaluation complete.\n"
     ]
    }
   ],
   "source": [
    "# Plot accuracy and loss\n",
    "plt.figure(figsize=(12, 5))\n",
    "plt.subplot(1, 2, 1)\n",
    "plt.plot(history.history['accuracy'], label='Train Accuracy')\n",
    "plt.plot(history.history['val_accuracy'], label='Validation Accuracy')\n",
    "plt.legend()\n",
    "plt.title('Model Accuracy')\n",
    "\n",
    "plt.subplot(1, 2, 2)\n",
    "plt.plot(history.history['loss'], label='Train Loss')\n",
    "plt.plot(history.history['val_loss'], label='Validation Loss')\n",
    "plt.legend()\n",
    "plt.title('Model Loss')\n",
    "plt.show()\n",
    "\n",
    "print(\"Model training and evaluation complete.\")\n"
   ]
  },
  {
   "cell_type": "markdown",
   "id": "bc008c3e-d3af-4a19-9d6d-86dc044583de",
   "metadata": {},
   "source": [
    "# Training Performance Analysis\n",
    "\n",
    "These graphs illustrate the **training and validation accuracy** and **loss trends** over epochs:\n",
    "\n",
    "- **Left (Model Accuracy)**: \n",
    "  - The **training accuracy** (blue) increases steadily.\n",
    "  - The **validation accuracy** (orange) fluctuates but improves, indicating better generalization.\n",
    "\n",
    "- **Right (Model Loss)**:\n",
    "  - The **training loss** (blue) decreases consistently.\n",
    "  - The **validation loss** (orange) shows an overall decline, confirming effective learning.\n",
    "\n",
    "A small gap between training and validation performance suggests that the model is **not significantly overfitting**.\n"
   ]
  },
  {
   "cell_type": "code",
   "execution_count": null,
   "id": "f3a97576-dd46-401c-be46-413693378f98",
   "metadata": {},
   "outputs": [],
   "source": []
  },
  {
   "cell_type": "markdown",
   "id": "64935c39-77ea-4d1a-ba8e-991e69a62b4d",
   "metadata": {},
   "source": [
    "# Model Evaluation - Confusion Matrix & Classification Report\n",
    "\n",
    "The confusion matrix and classification report provide a detailed **breakdown of predictions** across classes:\n",
    "\n",
    "- **Diagonal cells (darker blue)** show correctly classified samples.\n",
    "- **Off-diagonal cells (lighter blue)** indicate misclassifications.\n"
   ]
  },
  {
   "cell_type": "code",
   "execution_count": 144,
   "id": "c2e16182-4626-4da3-9e27-97b7e89ca9cb",
   "metadata": {},
   "outputs": [
    {
     "name": "stdout",
     "output_type": "stream",
     "text": [
      "\u001b[1m53/53\u001b[0m \u001b[32m━━━━━━━━━━━━━━━━━━━━\u001b[0m\u001b[37m\u001b[0m \u001b[1m8s\u001b[0m 142ms/step\n"
     ]
    },
    {
     "data": {
      "image/png": "[encoded data removed]",
      "text/plain": [
       "<Figure size 600x500 with 2 Axes>"
      ]
     },
     "metadata": {},
     "output_type": "display_data"
    },
    {
     "name": "stdout",
     "output_type": "stream",
     "text": [
      "              precision    recall  f1-score   support\n",
      "\n",
      "        Nike       0.89      0.90      0.90       271\n",
      "       Other       0.91      0.89      0.90       287\n",
      "    Non-Shoe       0.98      1.00      0.99       288\n",
      "\n",
      "    accuracy                           0.93       846\n",
      "   macro avg       0.93      0.93      0.93       846\n",
      "weighted avg       0.93      0.93      0.93       846\n",
      "\n"
     ]
    }
   ],
   "source": [
    "import matplotlib.pyplot as plt\n",
    "from sklearn.metrics import confusion_matrix, classification_report\n",
    "\n",
    "\n",
    "# Get true labels and predictions\n",
    "true_labels = test_generator.classes\n",
    "predictions = model.predict(test_generator)\n",
    "predicted_labels = np.argmax(predictions, axis=1)\n",
    "\n",
    "# Generate confusion matrix\n",
    "cm = confusion_matrix(true_labels, predicted_labels)\n",
    "class_labels = ['Nike', 'Other', 'Non-Shoe']\n",
    "\n",
    "# Plot confusion matrix\n",
    "plt.figure(figsize=(6, 5))\n",
    "sns.heatmap(cm, annot=True, fmt='d', cmap='Blues', xticklabels=class_labels, yticklabels=class_labels)\n",
    "plt.xlabel(\"Predicted Label\")\n",
    "plt.ylabel(\"True Label\")\n",
    "plt.title(\"Confusion Matrix\")\n",
    "plt.show()\n",
    "\n",
    "# Print classification report\n",
    "print(classification_report(true_labels, predicted_labels, target_names=class_labels))\n"
   ]
  },
  {
   "cell_type": "markdown",
   "id": "19817553-b45b-4c6d-b07a-ab4b39bf90fb",
   "metadata": {},
   "source": [
    "### **Key Insights from Classification Report:**\n",
    "✅ **Nike Class**  \n",
    "   - **Precision: 89%** (Out of all Nike predictions, 89% were correct)  \n",
    "   - **Recall: 90%** (Out of all actual Nike samples, 90% were identified correctly)  \n",
    "\n",
    "✅ **Other Class**  \n",
    "   - **Precision: 91%**, **Recall: 89%**  \n",
    "\n",
    "✅ **Non-Shoe Class**  \n",
    "   - **Excellent classification** with **98% Precision and 100% Recall**, meaning nearly all Non-Shoe images were classified correctly.\n",
    "\n",
    "### **Overall Model Performance:**\n",
    "- **Accuracy: 93%** – A strong performance across all categories.\n",
    "- **Balanced Precision, Recall, and F1-Scores** indicate reliable classification.\n",
    "\n",
    "The model performs **exceptionally well on distinguishing shoes from non-shoes** but has minor misclassification between **Nike and Other brands**."
   ]
  },
  {
   "cell_type": "code",
   "execution_count": null,
   "id": "c8b231f8-78eb-4989-9231-17999757a1fb",
   "metadata": {},
   "outputs": [],
   "source": []
  }
 ],
 "metadata": {
  "kernelspec": {
   "display_name": "Python [conda env:base] *",
   "language": "python",
   "name": "conda-base-py"
  },
  "language_info": {
   "codemirror_mode": {
    "name": "ipython",
    "version": 3
   },
   "file_extension": ".py",
   "mimetype": "text/x-python",
   "name": "python",
   "nbconvert_exporter": "python",
   "pygments_lexer": "ipython3",
   "version": "3.12.4"
  }
 },
 "nbformat": 4,
 "nbformat_minor": 5
}
